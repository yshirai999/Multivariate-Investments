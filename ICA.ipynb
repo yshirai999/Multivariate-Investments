{
 "cells": [
  {
   "cell_type": "code",
   "execution_count": 1,
   "metadata": {},
   "outputs": [],
   "source": [
    "# To install matlab, run pip install matlab\n",
    "# To install matlab engine, run pip install 'matlabengine == 9.13.7'\n",
    "\n",
    "import numpy as np\n",
    "from scipy.io import loadmat\n",
    "import pandas as pd\n"
   ]
  },
  {
   "cell_type": "code",
   "execution_count": 2,
   "metadata": {},
   "outputs": [],
   "source": [
    "import matlab.engine\n",
    "eng = matlab.engine.start_matlab()\n"
   ]
  },
  {
   "cell_type": "code",
   "execution_count": 3,
   "metadata": {},
   "outputs": [],
   "source": [
    "mat = loadmat('tsd180.mat')\n",
    "d = mat['days']\n",
    "p = mat['pm']\n",
    "n = mat['nmss']\n",
    "\n",
    "Data = pd.DataFrame({'days': d[:,0]})\n",
    "for i in range(np.shape(p)[1]):\n",
    "    Datai = pd.DataFrame({n[i,0][0] : p[:,i]})\n",
    "    Data = pd.concat([Data,Datai],axis=1)\n",
    "\n",
    "DataETFs = Data[['spy', 'xle', 'xlf', 'xli', 'xlk', 'xlp', 'xlu', 'xlv', 'xly', 'xom', 'xrx']]\n",
    "DataETFsReturns = DataETFs.diff()\n",
    "DataETFsReturns = DataETFsReturns.drop(index = 0)\n",
    "DataETFsReturns.insert(0, 'days', d[1:])\n",
    "DataETFsReturns['days'] = pd.to_datetime(DataETFsReturns['days'], format='%Y%m%d')\n",
    "\n",
    "X = DataETFsReturns.iloc[:,1:].values\n",
    "\n",
    "#DataETFsReturns.head(10)\n",
    "\n"
   ]
  },
  {
   "cell_type": "code",
   "execution_count": 4,
   "metadata": {},
   "outputs": [
    {
     "data": {
      "text/plain": [
       "(21, 6)"
      ]
     },
     "execution_count": 4,
     "metadata": {},
     "output_type": "execute_result"
    }
   ],
   "source": [
    "from sklearn.datasets import load_digits\n",
    "from sklearn.decomposition import FastICA\n",
    "transformer = FastICA(n_components=6,\n",
    "        random_state=0,\n",
    "        whiten='unit-variance')\n",
    "X_transformed = transformer.fit_transform(X[:21])\n",
    "X_transformed.shape"
   ]
  },
  {
   "cell_type": "code",
   "execution_count": 5,
   "metadata": {},
   "outputs": [
    {
     "data": {
      "text/plain": [
       "array([[-1.01249195e+00, -1.76856442e+00,  1.86938250e-01,\n",
       "        -1.56248758e+00,  8.45028926e-01, -1.05446256e+00],\n",
       "       [ 2.34868003e-01,  1.12326664e+00,  2.09005477e-01,\n",
       "         2.46146500e-01, -8.84953680e-01, -5.53200988e-01],\n",
       "       [ 8.69896644e-01,  9.85073867e-01,  3.60967337e-01,\n",
       "        -1.47363186e+00, -1.93024993e+00, -1.26123625e+00],\n",
       "       [-1.70575422e-01,  8.62607382e-01,  2.86631619e+00,\n",
       "         4.53175875e-01,  1.11807029e+00, -8.52548494e-02],\n",
       "       [ 3.21982242e+00, -4.59874026e-01, -5.16759906e-02,\n",
       "        -8.93664487e-02,  6.70505289e-01, -3.33388268e-01],\n",
       "       [ 1.01120357e-01, -1.40816420e-01,  2.30431808e-02,\n",
       "         3.06630143e-01, -1.65614342e-01, -1.71488288e-01],\n",
       "       [-2.17473520e+00,  4.27608965e-01,  1.70076528e-01,\n",
       "        -8.46919416e-02,  8.89405296e-01, -6.14275951e-01],\n",
       "       [ 9.42178095e-01,  3.92655709e-01, -4.73996208e-01,\n",
       "         1.00716857e+00,  9.04325675e-01, -3.23163435e-02],\n",
       "       [ 2.77313465e-01,  1.02899626e+00,  2.25363536e-01,\n",
       "         1.35442999e+00,  8.22826323e-01, -1.35538993e+00],\n",
       "       [ 2.41066143e-01, -1.35732458e+00, -4.88101550e-01,\n",
       "         4.63395611e-01,  7.58881672e-01,  1.41704778e+00],\n",
       "       [ 5.36079581e-01, -9.99560209e-01, -1.12387352e+00,\n",
       "         2.52753325e-01, -1.32998633e+00, -1.09029549e+00],\n",
       "       [-1.77200908e-01,  6.12806543e-01, -2.09157065e+00,\n",
       "        -2.04229736e-01,  1.08989407e+00,  1.39502042e+00],\n",
       "       [ 1.21546190e-03, -1.06538330e+00,  2.08401873e+00,\n",
       "        -9.65038130e-01, -1.14586841e+00,  1.33182444e+00],\n",
       "       [-1.05734105e+00, -9.77286139e-01, -2.28137268e-01,\n",
       "         2.39022395e+00, -8.42248051e-01, -1.15916482e+00],\n",
       "       [-6.27922937e-01, -1.12805368e+00, -2.42668124e-01,\n",
       "         3.37737339e-01, -7.87057401e-01,  6.22666750e-01],\n",
       "       [-4.95939703e-01,  6.99652814e-02, -3.31793595e-01,\n",
       "         8.92922358e-02,  3.41916524e-01, -6.79920506e-01],\n",
       "       [ 5.13852547e-01, -1.46704756e+00,  5.58880132e-01,\n",
       "        -1.33393767e-01,  7.89456149e-01,  8.08872253e-01],\n",
       "       [-4.28880250e-01,  5.20875020e-01, -1.02257571e+00,\n",
       "        -2.46047813e+00,  8.48410366e-01, -9.54423749e-01],\n",
       "       [-1.54797089e-01,  1.71219439e+00,  2.56021321e-01,\n",
       "        -1.63654959e-02,  5.49724131e-01,  1.36314304e+00],\n",
       "       [ 3.62347427e-02,  8.59697452e-01, -3.67971455e-01,\n",
       "         5.54532534e-02, -7.25687981e-01,  8.87338714e-01],\n",
       "       [-6.73762938e-01,  7.68162823e-01, -5.18266606e-01,\n",
       "         3.32763036e-02, -1.81677858e+00,  1.51890461e+00]])"
      ]
     },
     "execution_count": 5,
     "metadata": {},
     "output_type": "execute_result"
    }
   ],
   "source": [
    "X_transformed"
   ]
  }
 ],
 "metadata": {
  "kernelspec": {
   "display_name": "nenv",
   "language": "python",
   "name": "python3"
  },
  "language_info": {
   "codemirror_mode": {
    "name": "ipython",
    "version": 3
   },
   "file_extension": ".py",
   "mimetype": "text/x-python",
   "name": "python",
   "nbconvert_exporter": "python",
   "pygments_lexer": "ipython3",
   "version": "3.10.16"
  }
 },
 "nbformat": 4,
 "nbformat_minor": 2
}
