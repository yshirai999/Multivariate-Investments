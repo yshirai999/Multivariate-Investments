{
 "cells": [
  {
   "cell_type": "code",
   "execution_count": 1,
   "metadata": {},
   "outputs": [],
   "source": [
    "# To install matlab, run pip install matlab\n",
    "# To install matlab engine, run pip install 'matlabengine == 9.13.7'\n",
    "\n",
    "import numpy as np\n",
    "from scipy.io import loadmat\n",
    "import pandas as pd\n"
   ]
  },
  {
   "cell_type": "code",
   "execution_count": 2,
   "metadata": {},
   "outputs": [],
   "source": [
    "mat = loadmat('tsd180.mat')\n",
    "d = mat['days']\n",
    "p = mat['pm']\n",
    "n = mat['nmss']\n",
    "[N,M] = np.shape(p)\n",
    "\n",
    "Data = pd.DataFrame({'days': d[:,0]})\n",
    "for i in range(M):\n",
    "    Datai = pd.DataFrame({n[i,0][0] : p[:,i]})\n",
    "    Data = pd.concat([Data,Datai],axis=1)\n",
    "\n",
    "DataETFs = Data[['spy', 'xle', 'xlf', 'xli', 'xlk', 'xlp', 'xlu', 'xlv', 'xly', 'xom', 'xrx']]\n",
    "DataETFsReturns = DataETFs.diff()\n",
    "DataETFsReturns = DataETFsReturns.drop(index = 0)\n",
    "DataETFsReturns.insert(0, 'days', d[1:])\n",
    "DataETFsReturns['days'] = pd.to_datetime(DataETFsReturns['days'], format='%Y%m%d')\n",
    "\n",
    "X = DataETFsReturns.iloc[:,1:].values\n",
    "\n",
    "#DataETFsReturns.head(10)\n",
    "\n"
   ]
  },
  {
   "cell_type": "code",
   "execution_count": 23,
   "metadata": {},
   "outputs": [
    {
     "name": "stderr",
     "output_type": "stream",
     "text": [
      "c:\\Users\\yoshi\\anaconda3\\envs\\nenv\\lib\\site-packages\\sklearn\\decomposition\\_fastica.py:127: ConvergenceWarning: FastICA did not converge. Consider increasing tolerance or the maximum number of iterations.\n",
      "  warnings.warn(\n",
      "c:\\Users\\yoshi\\anaconda3\\envs\\nenv\\lib\\site-packages\\sklearn\\decomposition\\_fastica.py:127: ConvergenceWarning: FastICA did not converge. Consider increasing tolerance or the maximum number of iterations.\n",
      "  warnings.warn(\n",
      "c:\\Users\\yoshi\\anaconda3\\envs\\nenv\\lib\\site-packages\\sklearn\\decomposition\\_fastica.py:127: ConvergenceWarning: FastICA did not converge. Consider increasing tolerance or the maximum number of iterations.\n",
      "  warnings.warn(\n",
      "c:\\Users\\yoshi\\anaconda3\\envs\\nenv\\lib\\site-packages\\sklearn\\decomposition\\_fastica.py:127: ConvergenceWarning: FastICA did not converge. Consider increasing tolerance or the maximum number of iterations.\n",
      "  warnings.warn(\n",
      "c:\\Users\\yoshi\\anaconda3\\envs\\nenv\\lib\\site-packages\\sklearn\\decomposition\\_fastica.py:127: ConvergenceWarning: FastICA did not converge. Consider increasing tolerance or the maximum number of iterations.\n",
      "  warnings.warn(\n",
      "c:\\Users\\yoshi\\anaconda3\\envs\\nenv\\lib\\site-packages\\sklearn\\decomposition\\_fastica.py:127: ConvergenceWarning: FastICA did not converge. Consider increasing tolerance or the maximum number of iterations.\n",
      "  warnings.warn(\n",
      "c:\\Users\\yoshi\\anaconda3\\envs\\nenv\\lib\\site-packages\\sklearn\\decomposition\\_fastica.py:127: ConvergenceWarning: FastICA did not converge. Consider increasing tolerance or the maximum number of iterations.\n",
      "  warnings.warn(\n",
      "c:\\Users\\yoshi\\anaconda3\\envs\\nenv\\lib\\site-packages\\sklearn\\decomposition\\_fastica.py:127: ConvergenceWarning: FastICA did not converge. Consider increasing tolerance or the maximum number of iterations.\n",
      "  warnings.warn(\n",
      "c:\\Users\\yoshi\\anaconda3\\envs\\nenv\\lib\\site-packages\\sklearn\\decomposition\\_fastica.py:127: ConvergenceWarning: FastICA did not converge. Consider increasing tolerance or the maximum number of iterations.\n",
      "  warnings.warn(\n",
      "c:\\Users\\yoshi\\anaconda3\\envs\\nenv\\lib\\site-packages\\sklearn\\decomposition\\_fastica.py:127: ConvergenceWarning: FastICA did not converge. Consider increasing tolerance or the maximum number of iterations.\n",
      "  warnings.warn(\n",
      "c:\\Users\\yoshi\\anaconda3\\envs\\nenv\\lib\\site-packages\\sklearn\\decomposition\\_fastica.py:127: ConvergenceWarning: FastICA did not converge. Consider increasing tolerance or the maximum number of iterations.\n",
      "  warnings.warn(\n",
      "c:\\Users\\yoshi\\anaconda3\\envs\\nenv\\lib\\site-packages\\sklearn\\decomposition\\_fastica.py:127: ConvergenceWarning: FastICA did not converge. Consider increasing tolerance or the maximum number of iterations.\n",
      "  warnings.warn(\n",
      "c:\\Users\\yoshi\\anaconda3\\envs\\nenv\\lib\\site-packages\\sklearn\\decomposition\\_fastica.py:127: ConvergenceWarning: FastICA did not converge. Consider increasing tolerance or the maximum number of iterations.\n",
      "  warnings.warn(\n",
      "c:\\Users\\yoshi\\anaconda3\\envs\\nenv\\lib\\site-packages\\sklearn\\decomposition\\_fastica.py:127: ConvergenceWarning: FastICA did not converge. Consider increasing tolerance or the maximum number of iterations.\n",
      "  warnings.warn(\n",
      "c:\\Users\\yoshi\\anaconda3\\envs\\nenv\\lib\\site-packages\\sklearn\\decomposition\\_fastica.py:127: ConvergenceWarning: FastICA did not converge. Consider increasing tolerance or the maximum number of iterations.\n",
      "  warnings.warn(\n",
      "c:\\Users\\yoshi\\anaconda3\\envs\\nenv\\lib\\site-packages\\sklearn\\decomposition\\_fastica.py:127: ConvergenceWarning: FastICA did not converge. Consider increasing tolerance or the maximum number of iterations.\n",
      "  warnings.warn(\n",
      "c:\\Users\\yoshi\\anaconda3\\envs\\nenv\\lib\\site-packages\\sklearn\\decomposition\\_fastica.py:127: ConvergenceWarning: FastICA did not converge. Consider increasing tolerance or the maximum number of iterations.\n",
      "  warnings.warn(\n",
      "c:\\Users\\yoshi\\anaconda3\\envs\\nenv\\lib\\site-packages\\sklearn\\decomposition\\_fastica.py:127: ConvergenceWarning: FastICA did not converge. Consider increasing tolerance or the maximum number of iterations.\n",
      "  warnings.warn(\n",
      "c:\\Users\\yoshi\\anaconda3\\envs\\nenv\\lib\\site-packages\\sklearn\\decomposition\\_fastica.py:127: ConvergenceWarning: FastICA did not converge. Consider increasing tolerance or the maximum number of iterations.\n",
      "  warnings.warn(\n",
      "c:\\Users\\yoshi\\anaconda3\\envs\\nenv\\lib\\site-packages\\sklearn\\decomposition\\_fastica.py:127: ConvergenceWarning: FastICA did not converge. Consider increasing tolerance or the maximum number of iterations.\n",
      "  warnings.warn(\n",
      "c:\\Users\\yoshi\\anaconda3\\envs\\nenv\\lib\\site-packages\\sklearn\\decomposition\\_fastica.py:127: ConvergenceWarning: FastICA did not converge. Consider increasing tolerance or the maximum number of iterations.\n",
      "  warnings.warn(\n",
      "c:\\Users\\yoshi\\anaconda3\\envs\\nenv\\lib\\site-packages\\sklearn\\decomposition\\_fastica.py:127: ConvergenceWarning: FastICA did not converge. Consider increasing tolerance or the maximum number of iterations.\n",
      "  warnings.warn(\n",
      "c:\\Users\\yoshi\\anaconda3\\envs\\nenv\\lib\\site-packages\\sklearn\\decomposition\\_fastica.py:127: ConvergenceWarning: FastICA did not converge. Consider increasing tolerance or the maximum number of iterations.\n",
      "  warnings.warn(\n",
      "c:\\Users\\yoshi\\anaconda3\\envs\\nenv\\lib\\site-packages\\sklearn\\decomposition\\_fastica.py:127: ConvergenceWarning: FastICA did not converge. Consider increasing tolerance or the maximum number of iterations.\n",
      "  warnings.warn(\n",
      "c:\\Users\\yoshi\\anaconda3\\envs\\nenv\\lib\\site-packages\\sklearn\\decomposition\\_fastica.py:127: ConvergenceWarning: FastICA did not converge. Consider increasing tolerance or the maximum number of iterations.\n",
      "  warnings.warn(\n",
      "c:\\Users\\yoshi\\anaconda3\\envs\\nenv\\lib\\site-packages\\sklearn\\decomposition\\_fastica.py:127: ConvergenceWarning: FastICA did not converge. Consider increasing tolerance or the maximum number of iterations.\n",
      "  warnings.warn(\n",
      "c:\\Users\\yoshi\\anaconda3\\envs\\nenv\\lib\\site-packages\\sklearn\\decomposition\\_fastica.py:127: ConvergenceWarning: FastICA did not converge. Consider increasing tolerance or the maximum number of iterations.\n",
      "  warnings.warn(\n",
      "c:\\Users\\yoshi\\anaconda3\\envs\\nenv\\lib\\site-packages\\sklearn\\decomposition\\_fastica.py:127: ConvergenceWarning: FastICA did not converge. Consider increasing tolerance or the maximum number of iterations.\n",
      "  warnings.warn(\n",
      "c:\\Users\\yoshi\\anaconda3\\envs\\nenv\\lib\\site-packages\\sklearn\\decomposition\\_fastica.py:127: ConvergenceWarning: FastICA did not converge. Consider increasing tolerance or the maximum number of iterations.\n",
      "  warnings.warn(\n",
      "c:\\Users\\yoshi\\anaconda3\\envs\\nenv\\lib\\site-packages\\sklearn\\decomposition\\_fastica.py:127: ConvergenceWarning: FastICA did not converge. Consider increasing tolerance or the maximum number of iterations.\n",
      "  warnings.warn(\n",
      "c:\\Users\\yoshi\\anaconda3\\envs\\nenv\\lib\\site-packages\\sklearn\\decomposition\\_fastica.py:127: ConvergenceWarning: FastICA did not converge. Consider increasing tolerance or the maximum number of iterations.\n",
      "  warnings.warn(\n"
     ]
    }
   ],
   "source": [
    "from sklearn.decomposition import FastICA\n",
    "\n",
    "max_iter = 500\n",
    "tol = 0.1\n",
    "\n",
    "transformer = FastICA(n_components=10,\n",
    "        random_state=0,\n",
    "        whiten='unit-variance',\n",
    "        max_iter = max_iter,\n",
    "        tol = tol)\n",
    "\n",
    "X_transformed = {}\n",
    "W = {}\n",
    "A = {}\n",
    "lookbackperiod = 63\n",
    "Failed = list()\n",
    "for i in range(lookbackperiod,N):\n",
    "        X_transformed[DataETFsReturns['days'][i]] = transformer.fit_transform(X[i-lookbackperiod:i])\n",
    "        W[DataETFsReturns['days'][i]] = transformer.components_\n",
    "        A[DataETFsReturns['days'][i]] = transformer.mixing_\n",
    "        if transformer.n_iter_ >= max_iter:\n",
    "                Failed.append(d[i])"
   ]
  },
  {
   "cell_type": "code",
   "execution_count": 34,
   "metadata": {},
   "outputs": [
    {
     "name": "stdout",
     "output_type": "stream",
     "text": [
      "31\n"
     ]
    }
   ],
   "source": [
    "print(len(Failed))"
   ]
  }
 ],
 "metadata": {
  "kernelspec": {
   "display_name": "nenv",
   "language": "python",
   "name": "python3"
  },
  "language_info": {
   "codemirror_mode": {
    "name": "ipython",
    "version": 3
   },
   "file_extension": ".py",
   "mimetype": "text/x-python",
   "name": "python",
   "nbconvert_exporter": "python",
   "pygments_lexer": "ipython3",
   "version": "3.10.16"
  }
 },
 "nbformat": 4,
 "nbformat_minor": 2
}
