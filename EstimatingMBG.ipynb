{
 "cells": [
  {
   "cell_type": "code",
   "execution_count": 1,
   "id": "b3c996b1",
   "metadata": {},
   "outputs": [],
   "source": [
    "# To install matlab, run pip install matlab\n",
    "# To install matlab engine, run pip install 'matlabengine == 9.13.7'\n",
    "\n",
    "import numpy as np\n",
    "from scipy.io import loadmat\n",
    "import pandas as pd\n",
    "import matplotlib.pyplot as plt\n",
    "from sklearn.decomposition import FastICA\n",
    "from Models import BG\n"
   ]
  },
  {
   "cell_type": "code",
   "execution_count": 2,
   "id": "e570eea1",
   "metadata": {},
   "outputs": [
    {
     "name": "stdout",
     "output_type": "stream",
     "text": [
      "(4430, 11)\n",
      "[[ 0.63    0.0485  0.1218 ...  0.08   -0.59    0.7377]\n",
      " [-0.14   -0.6117 -0.0244 ...  0.19   -0.56   -0.1317]\n",
      " [ 0.48   -0.8739  0.1218 ...  0.21   -1.1     0.    ]\n",
      " ...\n",
      " [ 0.86   -0.38    0.12   ...  0.62   -0.48    0.13  ]\n",
      " [ 0.18   -1.3     0.11   ... -0.94   -1.47   -0.36  ]\n",
      " [-1.38   -0.19   -0.12   ... -1.11   -0.21   -0.25  ]]\n"
     ]
    }
   ],
   "source": [
    "mat = loadmat('tsd180.mat')\n",
    "d = mat['days']\n",
    "p = mat['pm']\n",
    "n = mat['nmss']\n",
    "[N,M] = np.shape(p)\n",
    "\n",
    "Data = pd.DataFrame({'days': d[:,0]})\n",
    "for i in range(M):\n",
    "    Datai = pd.DataFrame({n[i,0][0] : p[:,i]})\n",
    "    Data = pd.concat([Data,Datai],axis=1)\n",
    "\n",
    "DataETFs = Data[['spy', 'xle', 'xlf', 'xli', 'xlk', 'xlp', 'xlu', 'xlv', 'xly', 'xom', 'xrx']]\n",
    "DataETFsReturns = DataETFs.diff()\n",
    "DataETFsReturns = DataETFsReturns.drop(index = 0)\n",
    "DataETFsReturns.insert(0, 'days', d[1:])\n",
    "DataETFs.insert(0, 'days', d)\n",
    "DataETFsReturns['days'] = pd.to_datetime(DataETFsReturns['days'], format='%Y%m%d')\n",
    "\n",
    "X = DataETFsReturns.iloc[:,1:].values\n",
    "\n",
    "#DataETFs.head(10)\n",
    "print(X.shape)\n",
    "print(X)"
   ]
  },
  {
   "cell_type": "code",
   "execution_count": 3,
   "id": "e53c9413",
   "metadata": {},
   "outputs": [
    {
     "name": "stdout",
     "output_type": "stream",
     "text": [
      "22\n"
     ]
    }
   ],
   "source": [
    "import os\n",
    "print(os.cpu_count())"
   ]
  },
  {
   "cell_type": "code",
   "execution_count": 4,
   "id": "baed791d",
   "metadata": {},
   "outputs": [
    {
     "name": "stdout",
     "output_type": "stream",
     "text": [
      "All params shape: (4430, 11, 4)\n",
      "Example (t=150, asset=3): [2.09822984e-01 1.48767576e-01 1.40261570e-05 8.48533783e+01]\n"
     ]
    }
   ],
   "source": [
    "# 1) Build one BG instance with FFT grid on [−10%, +10%]:\n",
    "bg = BG(N=4096, Xmax=0.1)\n",
    "\n",
    "# 2) Fit SPY (column 0) *serially* (no per-window parallel):\n",
    "# spy_params = bg.fit_series(X[:, 0], window=100)\n",
    "# print(\"SPY params shape:\", spy_params.shape)\n",
    "# print(\"Example SPY at t=150:\", spy_params[150, :])\n",
    "\n",
    "# 3) Fit all 11 assets *in parallel across assets* (1 process per asset):\n",
    "all_params = bg.fit_multiple(X, window=100, n_workers=11)\n",
    "print(\"All params shape:\", all_params.shape)\n",
    "print(\"Example (t=150, asset=3):\", all_params[150, 3, :])"
   ]
  },
  {
   "cell_type": "code",
   "execution_count": 5,
   "id": "8e865095",
   "metadata": {},
   "outputs": [],
   "source": [
    "import os\n",
    "import numpy as np\n",
    "\n",
    "# Create the folder if it doesn't exist\n",
    "os.makedirs('estimates', exist_ok=True)\n",
    "\n",
    "# Save the array\n",
    "np.save('estimates/all_params.npy', all_params)\n",
    "\n",
    "# To load it later:\n",
    "# loaded_params = np.load('estimates/all_params.npy')"
   ]
  },
  {
   "cell_type": "code",
   "execution_count": 6,
   "id": "8dff465e",
   "metadata": {},
   "outputs": [
    {
     "name": "stdout",
     "output_type": "stream",
     "text": [
      "Example (t=150, asset=3): [2.09822984e-01 1.48767576e-01 1.40261570e-05 8.48533783e+01]\n"
     ]
    }
   ],
   "source": [
    "loaded_params = np.load('estimates/all_params.npy')\n",
    "print(\"Example (t=150, asset=3):\", loaded_params[150, 3, :])"
   ]
  }
 ],
 "metadata": {
  "kernelspec": {
   "display_name": "dsp_equity_strategy",
   "language": "python",
   "name": "python3"
  },
  "language_info": {
   "codemirror_mode": {
    "name": "ipython",
    "version": 3
   },
   "file_extension": ".py",
   "mimetype": "text/x-python",
   "name": "python",
   "nbconvert_exporter": "python",
   "pygments_lexer": "ipython3",
   "version": "3.10.18"
  }
 },
 "nbformat": 4,
 "nbformat_minor": 5
}
